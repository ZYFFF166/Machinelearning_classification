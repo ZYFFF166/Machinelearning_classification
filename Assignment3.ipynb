{
 "cells": [
  {
   "cell_type": "markdown",
   "metadata": {},
   "source": [
    "# Assignment 3\n",
    "### Instructor: Vagelis Papalexakis\n",
    "### Credit for  Assignment 3: 10/35 points of the final grade\n",
    "\n",
    "In this assignment we will implement the K-means clustering algorithm. We are going to use the same dataset as in the previous two assignments (<b>Note</b>: make sure you copy the dataset from Assignment 1 to the folder of this assignment!)."
   ]
  },
  {
   "cell_type": "code",
   "execution_count": 1,
   "metadata": {},
   "outputs": [],
   "source": [
    "import numpy as np\n",
    "import pandas as pd\n",
    "import matplotlib.pyplot as plt\n",
    "import seaborn as sb\n",
    "import random as rand\n",
    "from sklearn.model_selection import train_test_split\n",
    "\n",
    "\n",
    "data_names = ['sepal_length', 'sepal_width', 'petal_length', 'petal_width', 'label']\n",
    "data = pd.read_csv('iris.data', \n",
    "                   names = data_names)"
   ]
  },
  {
   "cell_type": "markdown",
   "metadata": {},
   "source": [
    "## Question 1: Implementing and testing K-means clustering [100%]\n",
    "### Question 1a: Implementing K-Means clustering [50%]\n",
    "In this question you should implement a function that performs k-means clustering, using the Euclidean distance (you may use Numpy libraries for the distance computation). For calculation of the centroid you should use the 'mean' function.\n",
    "\n",
    "For uniformity, you should implement a function with the following specifications:\n",
    "```python\n",
    "def kmeans_clustering(all_vals,K,max_iter = 100, tol = pow(10,-3) ):\n",
    "```\n",
    "where 1) 'all_vals' is the $N \\times M$ matrix that contains all data points ($N$ is the number of data points and $M$ is the number of features, each row of the matrix is a data point), 2) 'K' is the number of clusters, 3) 'max_iter' is the maxium number of iterations, and 4) 'tol' is the tolerance for the change of the sum of squares of errors that determines convergence.\n",
    "\n",
    "Your function should return the following variables: 1) 'assignments': this is a $N\\times 1$ vector (where $N$ is the number of data points) where the $i$-th position of that vector contains the cluster number that the $i$-th data point is assigned to, 2) 'centroids': this is a $K\\times M$ matrix, each row of which contains the centroid for every cluster, 3) 'all_sse': this is a vector that contains all the sum of squares of errors per iteration of the algorithm, and 4) 'iters': this is the number of iterations that the algorithm ran.\n",
    "\n",
    "Here we are going to implement the simplest version of K-means, where the initial centroids are chosen entirely at random among all the data points.\n",
    "\n",
    "As we saw in class, the K-means algorithm iterates over the following steps:\n",
    "- Given a set of centroids, assign all data points to the cluster represented by its nearest centroid (according to Euclidean distance)\n",
    "- Given a set of assignments of points to clusters, compute the new centroids for every cluster, by taking the mean of all the points assigned to each cluster.\n",
    "\n",
    "Your algorithm should converge if 1) the maximum number of iteratiosn is reached, or 2) if the SSE between two consecutive iterations does not change a lot (as in the gradient descent for linear regression we saw in Assignment 2). In order to check for the latter condition, you may use the following piece of code:\n",
    "```python\n",
    "if np.absolute(all_sse[it] - all_sse[it-1])/all_sse[it-1] <= tol\n",
    "```\n",
    "\n",
    "In order to calculate the SSE (sum of squares of error) first you need to define what an 'error' is. In k-means, error per data point refers to the Euclidean distance of that particular point from its assigned centroid. SSE sums up all those squared Euclidean distances for all data points and comes up with a number that reflects the total error of approximating every data points by its assigned centroid.\n",
    "\n",
    "\n"
   ]
  },
  {
   "cell_type": "code",
   "execution_count": 2,
   "metadata": {},
   "outputs": [],
   "source": [
    "#k-means clustering\n",
    "def kmeans_clustering(all_vals,K,max_iter = 100, tol = pow(10,-3) ):\n",
    "    init = np.zeros(K)\n",
    "    center = np.zeros(shape=(K,4))\n",
    "    new_center = center\n",
    "    d = np.zeros(K)\n",
    "    label = np.zeros(len(all_vals))\n",
    "    index = np.zeros(shape=(K,len(all_vals)))\n",
    "    it = 0\n",
    "    all_sse = []\n",
    "    \n",
    "    init_list=rand.sample(range(0,len(all_vals)-1),K);\n",
    "    init = np.array(init_list)\n",
    "\n",
    "    for i in range(K):\n",
    "        center[i] = (all_vals[int(init[i])])\n",
    "       \n",
    "    for it in range(max_iter):\n",
    "        for i in range(len(all_vals)):\n",
    "            for j in range(K):\n",
    "                d[j] = np.sqrt((all_vals[i,0]-center[j,0])**2 + (all_vals[i,1]-center[j,1])**2 + (all_vals[i,2]-center[j,2])**2 + (all_vals[i,3]-center[j,3])**2)         \n",
    "            label[i] = np.argmin(d)\n",
    "        e = 0\n",
    "        new_center = np.zeros(shape=(K,4))\n",
    "        \n",
    "        for i in range(K):\n",
    "            index[i] = np.pad([x for x, y in enumerate(label) if y == i], (0 , len(all_vals)-len([x for x, y in enumerate(label) if y == i])), 'constant', constant_values=-1)\n",
    "            temp_cluster = [x for x in index[i] if x != -1]\n",
    "            \n",
    "            for j in range(len(temp_cluster)):\n",
    "                new_center[i] = [new_center[i,0]+all_vals[int(temp_cluster[j]),0], new_center[i,1]+all_vals[int(temp_cluster[j]),1], new_center[i,2]+all_vals[int(temp_cluster[j]),2], new_center[i,3]+all_vals[int(temp_cluster[j]),3]]\n",
    "                e = e + np.sqrt((all_vals[int(temp_cluster[j]),0]-center[i,0])**2 + (all_vals[int(temp_cluster[j]),1]-center[i,1])**2 + (all_vals[int(temp_cluster[j]),2]-center[i,2])**2 + (all_vals[int(temp_cluster[j]),3]-center[i,3])**2)\n",
    "            if len(temp_cluster) != 0:\n",
    "                new_center[i] = [new_center[i,0]/len(temp_cluster), new_center[i,1]/len(temp_cluster), new_center[i,2]/len(temp_cluster), new_center[i,3]/len(temp_cluster)]\n",
    "       \n",
    "        all_sse.append(e)\n",
    "        if np.absolute(all_sse[it] - all_sse[it-1])/all_sse[it-1] <= tol and it > 2 :\n",
    "            return(label, center, all_sse, it)\n",
    "        center = new_center"
   ]
  },
  {
   "cell_type": "markdown",
   "metadata": {},
   "source": [
    "### Question 1b: Visualizing K-means [10%]\n",
    "In this question we wll visualize the result of the K-means algorithm. For ease of visualization, we will focus on a scatterplot of two of the four features of the Iris dataset. In particular: run your K-means code with K=3 and default values for the rest of the inputs. Subsequently, make a single scatterplot that contains all data points of the dataset for features 'sepal_length' and 'petal_length' and color every data point according to its cluster assignment."
   ]
  },
  {
   "cell_type": "code",
   "execution_count": 3,
   "metadata": {},
   "outputs": [
    {
     "data": {
      "text/plain": [
       "<matplotlib.collections.PathCollection at 0x1174031d0>"
      ]
     },
     "execution_count": 3,
     "metadata": {},
     "output_type": "execute_result"
    },
    {
     "data": {
      "image/png": "[encoded data removed]",
      "text/plain": [
       "<Figure size 432x288 with 1 Axes>"
      ]
     },
     "metadata": {},
     "output_type": "display_data"
    }
   ],
   "source": [
    "#your code here\n",
    "all_vals = data[['sepal_length', 'sepal_width', 'petal_length', 'petal_width']].values\n",
    "label, cens, sse, it = kmeans_clustering(all_vals,3)\n",
    "plt.scatter(all_vals[:,0], all_vals[:,2], c=label)"
   ]
  },
  {
   "cell_type": "markdown",
   "metadata": {},
   "source": [
    "### Question 1c: Testing K-means [40%]\n",
    "Selecting the right number of clusters $K$ is a very challenging problem, especially when we don't have some side-information or domain expertise that can help us narrow down a few reasonable values for that parameter. \n",
    "\n",
    "In the absence of any other information, a very useful exercise is to create the plot of SSE (sum of squares of errors) as a function of $K$. Ideally, for a very small $K$, the error will be high (since we are trying to approximate a whole lot of points with a very small number of centroids) and as $K$ increases, the error decreases. However, after a certain value (or a couple of values) for $K$, we will notice diminishing returns, i.e., the error will be decreasing, but not to a great degree. Typically, the value(s) for $K$ where this behavior is observed (the threshold point after which we observe diminishing returns) is usually a good guess for the number of clusters. \n",
    "\n",
    "In this question, we will have to create the SSE vs. K plot for $K = 1\\cdots10$. Furthermore, because K-means uses randomized initialization, we need to do a number of iterations per value of $K$ in order to get a good estimate of the actual SSE (which may not be caused by randomness in the initialization). For this question, you will have to run the entire K-means algorithm to completion, and repeat it 50 different times per $K$, and collect all SSEs. In the figure, you should report the mean SSE per $K$, surrounded by error-bars which will encode the standard deviation."
   ]
  },
  {
   "cell_type": "code",
   "execution_count": 4,
   "metadata": {},
   "outputs": [
    {
     "name": "stdout",
     "output_type": "stream",
     "text": [
      "[291.45512386 128.40419524 101.89139531  88.74069257  79.53245105\n",
      "  74.87355391  70.39928048  66.99166234  64.49700721  62.38778729]\n"
     ]
    },
    {
     "data": {
      "text/plain": [
       "Text(0.5,0,'K from 1 to 10')"
      ]
     },
     "execution_count": 4,
     "metadata": {},
     "output_type": "execute_result"
    },
    {
     "data": {
      "image/png": "[encoded data removed]",
      "text/plain": [
       "<Figure size 432x288 with 1 Axes>"
      ]
     },
     "metadata": {},
     "output_type": "display_data"
    }
   ],
   "source": [
    "#your code here\n",
    "K = 10\n",
    "SSE = np.zeros(shape=(K,50))\n",
    "SSE_mean = np.zeros(K)\n",
    "for i in range(K):\n",
    "    for j in range(50):\n",
    "        a, b, temp, d = kmeans_clustering(all_vals,i+1)\n",
    "        SSE[i,j] = temp[-1]\n",
    "    SSE_mean[i] = np.mean(SSE[i])\n",
    "print(SSE_mean)\n",
    "x=[1,2,3,4,5,6,7,8,9,10]\n",
    "plt.plot(x,SSE_mean,'-o')\n",
    "plt.ylabel('mean sse')\n",
    "plt.xlabel('K from 1 to 10')"
   ]
  },
  {
   "cell_type": "code",
   "execution_count": null,
   "metadata": {},
   "outputs": [],
   "source": []
  },
  {
   "cell_type": "code",
   "execution_count": null,
   "metadata": {},
   "outputs": [],
   "source": []
  }
 ],
 "metadata": {
  "kernelspec": {
   "display_name": "Python 3",
   "language": "python",
   "name": "python3"
  },
  "language_info": {
   "codemirror_mode": {
    "name": "ipython",
    "version": 3
   },
   "file_extension": ".py",
   "mimetype": "text/x-python",
   "name": "python",
   "nbconvert_exporter": "python",
   "pygments_lexer": "ipython3",
   "version": "3.6.5"
  }
 },
 "nbformat": 4,
 "nbformat_minor": 2
}
